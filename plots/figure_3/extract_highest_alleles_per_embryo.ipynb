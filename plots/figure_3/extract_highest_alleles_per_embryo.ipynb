{
 "cells": [
  {
   "cell_type": "code",
   "execution_count": 1,
   "metadata": {
    "collapsed": true
   },
   "outputs": [],
   "source": [
    "import numpy as np; np.random.seed(0)\n",
    "import seaborn as sns;\n",
    "import matplotlib.pylab as pylab\n",
    "import matplotlib.pyplot as plt\n",
    "import os\n",
    "import scipy.stats\n",
    "import math\n",
    "from ete3 import Tree\n",
    "\n",
    "%matplotlib inline  \n",
    "pylab.rcParams['figure.figsize'] = 15, 15  # that's default image size for this\n",
    "\n",
    "import json"
   ]
  },
  {
   "cell_type": "code",
   "execution_count": 2,
   "metadata": {
    "collapsed": false
   },
   "outputs": [],
   "source": [
    "# for each line in the embryo file, split out the HMID into individual events and add their counts together\n",
    "embryo_data = open(\"/mount/vol10/CRISPR.lineage/nobackup/2016_05_04_embryo_rerun/merged_v7_embryo_data_gt_100_May_5th_2016.txt\")\n",
    "header = embryo_data.readline()\n",
    "embryo_to_event_counts = {}\n",
    "embryo_to_counts = {}\n",
    "embryo_to_unique_counts = {}\n",
    "\n",
    "counted_tokens = 0\n",
    "for line in embryo_data:\n",
    "    sp = line.strip(\"\\n\").split(\"\\t\")\n",
    "    sample = sp[0]\n",
    "    hmid = sp[4]\n",
    "    count = int(sp[6])\n",
    "    event_list = set()\n",
    "    \n",
    "    for token in hmid.split(\"_\"):\n",
    "        if \"&\" in token:\n",
    "            for tk in token.split(\"&\"):\n",
    "                if tk != \"NONE\":\n",
    "                    event_list.add(tk)\n",
    "        else:\n",
    "            event_list.add(token)\n",
    "                \n",
    "    for event in event_list:\n",
    "        if not sample in embryo_to_event_counts:\n",
    "            embryo_to_event_counts[sample] = {}\n",
    "        counted_tokens += count\n",
    "        embryo_to_event_counts[sample][event] = embryo_to_event_counts[sample].get(event,0) + count\n",
    "        \n",
    "    embryo_to_counts[sample] = embryo_to_counts.get(sample,0) + count\n",
    "    embryo_to_unique_counts[sample] = embryo_to_unique_counts.get(sample,0) + 1\n"
   ]
  },
  {
   "cell_type": "code",
   "execution_count": 3,
   "metadata": {
    "collapsed": false
   },
   "outputs": [
    {
     "data": {
      "text/plain": [
       "744"
      ]
     },
     "execution_count": 3,
     "metadata": {},
     "output_type": "execute_result"
    }
   ],
   "source": [
    "embryo_to_event_counts['Dome_1_1x']['20I+140+TACTGTTTTAGATACTGTTT']\n",
    "# embryo_to_event_counts['Dome_1_1x']\n"
   ]
  },
  {
   "cell_type": "code",
   "execution_count": 4,
   "metadata": {
    "collapsed": false
   },
   "outputs": [],
   "source": [
    "# filter down the sample list\n",
    "embryo_to_use = []\n",
    "for embryo,count in embryo_to_counts.iteritems():\n",
    "    if not \"1b\" in embryo and count >= 150: # and embryo_to_unique_counts[embryo] >= 20:\n",
    "        embryo_to_use.append(embryo)"
   ]
  },
  {
   "cell_type": "code",
   "execution_count": 5,
   "metadata": {
    "collapsed": false
   },
   "outputs": [
    {
     "data": {
      "text/plain": [
       "45"
      ]
     },
     "execution_count": 5,
     "metadata": {},
     "output_type": "execute_result"
    }
   ],
   "source": [
    "len(set(embryo_to_use))"
   ]
  },
  {
   "cell_type": "code",
   "execution_count": 6,
   "metadata": {
    "collapsed": false
   },
   "outputs": [],
   "source": [
    "# for each embryo, find the most prominant edit.  Then find their proportion each other embryo, record each\n",
    "top_edits = open(\"top_events_per_embryo_new.txt\",\"w\")\n",
    "top_edits.write(\"sample\\tevent\\tpropotions\\ttype\\n\")\n",
    "\n",
    "top_event_per_embryo = {}\n",
    "top_event_per_embryo_count = {}\n",
    "\n",
    "for sample in embryo_to_use:\n",
    "    top_event_per_embryo[sample] = \"NOPE\"\n",
    "    top_event_per_embryo_count[sample] = 0\n",
    "    \n",
    "    for event, count in embryo_to_event_counts[sample].iteritems():\n",
    "        # print count\n",
    "        if count > top_event_per_embryo_count[sample] and event != \"NONE\":\n",
    "            top_event_per_embryo[sample] = event\n",
    "            top_event_per_embryo_count[sample] = count\n",
    "            \n",
    "\n",
    "top_event_to_samples = {}\n",
    "for sample in embryo_to_use:\n",
    "    top_event = top_event_per_embryo[sample]\n",
    "    \n",
    "    if not top_event in top_event_to_samples:\n",
    "        top_event_to_samples[top_event] = []\n",
    "    top_event_to_samples[top_event].append(sample)\n",
    "    \n",
    "    prop = float(top_event_per_embryo_count[sample]) / float(embryo_to_counts[sample])\n",
    "    top_edits.write(sample + \"\\t\" + top_event_per_embryo[sample] + \"\\t\" + str(prop) + \"\\ttop\\n\")\n"
   ]
  },
  {
   "cell_type": "code",
   "execution_count": 7,
   "metadata": {
    "collapsed": false
   },
   "outputs": [],
   "source": [
    "event_to_rate_in_other = {}\n",
    "event_to_count_in_other = {}\n",
    "for sample in embryo_to_use:\n",
    "    for event, count in embryo_to_event_counts[sample].iteritems():\n",
    "        if event in top_event_to_samples and not sample in top_event_to_samples[event]:\n",
    "            prop = float(embryo_to_event_counts[sample][event]) / float(embryo_to_counts[sample])\n",
    "            event_to_rate_in_other[event] = event_to_rate_in_other.get(event,0.0) + prop \n",
    "            event_to_count_in_other[event] = event_to_count_in_other.get(event,0) + 1\n",
    "\n",
    "for sample, event in top_event_per_embryo.iteritems():\n",
    "    rate = event_to_rate_in_other.get(event,0.0)\n",
    "    count = event_to_count_in_other.get(event,1)\n",
    "    avg_rate_in_other = float(rate) / float(count)\n",
    "    top_edits.write(sample + \"\\t\" + event + \"\\t\" + str(avg_rate_in_other) + \"\\tother\\n\")"
   ]
  },
  {
   "cell_type": "code",
   "execution_count": 8,
   "metadata": {
    "collapsed": false
   },
   "outputs": [],
   "source": [
    "\n",
    "top_edits.close()"
   ]
  },
  {
   "cell_type": "code",
   "execution_count": null,
   "metadata": {
    "collapsed": true
   },
   "outputs": [],
   "source": []
  }
 ],
 "metadata": {
  "kernelspec": {
   "display_name": "Python 2",
   "language": "python",
   "name": "python2"
  },
  "language_info": {
   "codemirror_mode": {
    "name": "ipython",
    "version": 2
   },
   "file_extension": ".py",
   "mimetype": "text/x-python",
   "name": "python",
   "nbconvert_exporter": "python",
   "pygments_lexer": "ipython2",
   "version": "2.7.11"
  }
 },
 "nbformat": 4,
 "nbformat_minor": 0
}
